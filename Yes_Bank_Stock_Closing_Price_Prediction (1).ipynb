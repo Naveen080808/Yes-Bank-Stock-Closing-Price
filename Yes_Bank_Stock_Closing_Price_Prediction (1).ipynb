{
  "nbformat": 4,
  "nbformat_minor": 0,
  "metadata": {
    "colab": {
      "private_outputs": true,
      "provenance": [],
      "collapsed_sections": [
        "vncDsAP0Gaoa",
        "FJNUwmbgGyua",
        "w6K7xa23Elo4",
        "yQaldy8SH6Dl",
        "PH-0ReGfmX4f",
        "mDgbUHAGgjLW",
        "Y3lxredqlCYt",
        "3RnN4peoiCZX",
        "x71ZqKXriCWQ",
        "7hBIi_osiCS2",
        "35m5QtbWiB9F",
        "H0kj-8xxnORC",
        "b0JNsNcRphqO",
        "gCFgpxoyphqP",
        "OVtJsKN_phqQ",
        "lssrdh5qphqQ",
        "U2RJ9gkRphqQ",
        "1M8mcRywphqQ",
        "tgIPom80phqQ",
        "JMzcOPDDphqR",
        "x-EpHcCOp1ci",
        "X_VqEhTip1ck",
        "8zGJKyg5p1ck",
        "PVzmfK_Ep1ck",
        "n3dbpmDWp1ck",
        "ylSl6qgtp1ck",
        "ZWILFDl5p1ck",
        "M7G43BXep1ck",
        "Ag9LCva-p1cl",
        "E6MkPsBcp1cl",
        "2cELzS2fp1cl",
        "3MPXvC8up1cl",
        "NC_X3p0fY2L0",
        "UV0SzAkaZNRQ",
        "YPEH6qLeZNRQ",
        "q29F0dvdveiT",
        "EXh0U9oCveiU",
        "22aHeOlLveiV",
        "JcMwzZxoAimU",
        "8G2x9gOozGDZ",
        "gCX9965dhzqZ",
        "gIfDvo9L0UH2"
      ]
    },
    "kernelspec": {
      "name": "python3",
      "display_name": "Python 3"
    },
    "language_info": {
      "name": "python"
    }
  },
  "cells": [
    {
      "cell_type": "markdown",
      "source": [
        "# **Project Name**    -Yes Bank Stock Closing Price Prediction\n",
        "\n"
      ],
      "metadata": {
        "id": "vncDsAP0Gaoa"
      }
    },
    {
      "cell_type": "markdown",
      "source": [
        "##### **Project Type**    - EDA/Regression/Classification/Unsupervised\n",
        "##### **Contribution**    - Individual\n",
        "**Name** - Naveen.C\n"
      ],
      "metadata": {
        "id": "beRrZCGUAJYm"
      }
    },
    {
      "cell_type": "markdown",
      "source": [
        "# **Project Summary -**"
      ],
      "metadata": {
        "id": "FJNUwmbgGyua"
      }
    },
    {
      "cell_type": "markdown",
      "source": [
        "The objective of this study is to forecast stock closing prices using regression models, specifically Linear Regression (OLS), Ridge Regression, and Random Forest. Here's a summary of the regression project:\n",
        "\n",
        "1. Data Preprocessing: The dataset underwent cleaning procedures to address missing values, duplicates, and outliers. Standardization and normalization techniques were applied to ensure data consistency.\n",
        "\n",
        "2. Exploratory Data Analysis (EDA): During this phase, the data was visualized and analyzed to extract insights. Cleaning and preprocessing steps, such as handling missing values, duplicates, and outliers, were performed. Data visualization techniques were employed to identify patterns and trends.\n",
        "\n",
        "3. Feature Engineering: New features like Year, Month, and Quarter were engineered to capture temporal patterns and enhance model accuracy.\n",
        "\n",
        "4. Splitting: The dataset was split into training and testing sets to facilitate model implementation. The training set was used to train the models, while the testing set was utilized for evaluation.\n",
        "\n",
        "5. Model Implementation: Regression models, including Linear Regression (OLS), Ridge Regression, and Random Forest, were implemented to predict stock prices. Model performance was evaluated using metrics like mean squared error (MSE) and R-squared. Cross-validation techniques were utilized to assess model performance on unseen data. The best-performing model was selected for production deployment based on comprehensive evaluation.\n",
        "\n",
        "6. Model Explainability: Models were analyzed to interpret the factors influencing stock price predictions. Techniques like Permutation Importance Scores were used to assess feature importance and elucidate the relationship between features and predicted values.\n",
        "\n",
        "In summary, this project successfully utilized Linear Regression (OLS), Ridge Regression, and Random Forest for stock price prediction, encompassing data preprocessing, feature engineering, model implementation, and explainability analysis. The best-performing model as Linear regression(OLS) was selected based on comprehensive evaluation, achieving the project's objectives."
      ],
      "metadata": {
        "id": "F6v_1wHtG2nS"
      }
    },
    {
      "cell_type": "markdown",
      "source": [
        "# **GitHub Link -**"
      ],
      "metadata": {
        "id": "w6K7xa23Elo4"
      }
    },
    {
      "cell_type": "markdown",
      "source": [
        "Provide your GitHub Link here."
      ],
      "metadata": {
        "id": "h1o69JH3Eqqn"
      }
    },
    {
      "cell_type": "markdown",
      "source": [
        "# **Problem Statement**\n"
      ],
      "metadata": {
        "id": "yQaldy8SH6Dl"
      }
    },
    {
      "cell_type": "markdown",
      "source": [
        "Yes Bank, a significant player in the Indian financial sector, garnered widespread attention in the media following the 2018 fraud case involving its founder, Rana Kapoor. Against this backdrop, it is compelling to examine the impact of this incident on the bank's stock prices and assess the effectiveness of time series or other predictive models in capturing such intricate scenarios. The dataset under consideration spans monthly stock prices of Yes Bank from its inception, providing information on monthly closing, opening, highest, and lowest stock prices."
      ],
      "metadata": {
        "id": "DpeJGUA3kjGy"
      }
    },
    {
      "cell_type": "markdown",
      "source": [
        "# **General Guidelines** : -  "
      ],
      "metadata": {
        "id": "mDgbUHAGgjLW"
      }
    },
    {
      "cell_type": "markdown",
      "source": [
        "1.   Well-structured, formatted, and commented code is required.\n",
        "2.   Exception Handling, Production Grade Code & Deployment Ready Code will be a plus. Those students will be awarded some additional credits.\n",
        "     \n",
        "     The additional credits will have advantages over other students during Star Student selection.\n",
        "       \n",
        "             [ Note: - Deployment Ready Code is defined as, the whole .ipynb notebook should be executable in one go\n",
        "                       without a single error logged. ]\n",
        "\n",
        "3.   Each and every logic should have proper comments.\n",
        "4. You may add as many number of charts you want. Make Sure for each and every chart the following format should be answered.\n",
        "        \n",
        "\n",
        "```\n",
        "# Chart visualization code\n",
        "```\n",
        "            \n",
        "\n",
        "*   Why did you pick the specific chart?\n",
        "*   What is/are the insight(s) found from the chart?\n",
        "* Will the gained insights help creating a positive business impact?\n",
        "Are there any insights that lead to negative growth? Justify with specific reason.\n",
        "\n",
        "5. You have to create at least 20 logical & meaningful charts having important insights.\n",
        "\n",
        "\n",
        "[ Hints : - Do the Vizualization in  a structured way while following \"UBM\" Rule.\n",
        "\n",
        "U - Univariate Analysis,\n",
        "\n",
        "B - Bivariate Analysis (Numerical - Categorical, Numerical - Numerical, Categorical - Categorical)\n",
        "\n",
        "M - Multivariate Analysis\n",
        " ]\n",
        "\n",
        "\n",
        "\n"
      ],
      "metadata": {
        "id": "ZrxVaUj-hHfC"
      }
    },
    {
      "cell_type": "markdown",
      "source": [
        "# ***Let's Begin !***"
      ],
      "metadata": {
        "id": "O_i_v8NEhb9l"
      }
    },
    {
      "cell_type": "markdown",
      "source": [
        "## ***1. Know Your Data***"
      ],
      "metadata": {
        "id": "HhfV-JJviCcP"
      }
    },
    {
      "cell_type": "markdown",
      "source": [
        "### Import Libraries"
      ],
      "metadata": {
        "id": "Y3lxredqlCYt"
      }
    },
    {
      "cell_type": "code",
      "source": [
        "# Import Libraries\n",
        "import numpy as np\n",
        "import pandas as pd\n",
        "import matplotlib.pyplot as plt\n",
        "import seaborn as sns\n",
        "plt.style.use('ggplot')\n",
        "import plotly.express as px\n",
        "%matplotlib inline"
      ],
      "metadata": {
        "id": "M8Vqi-pPk-HR"
      },
      "execution_count": null,
      "outputs": []
    },
    {
      "cell_type": "markdown",
      "source": [
        "### Dataset Loading"
      ],
      "metadata": {
        "id": "3RnN4peoiCZX"
      }
    },
    {
      "cell_type": "code",
      "source": [
        "# Load Dataset\n",
        "df_bank = pd.read_csv(\"/content/data_YesBank_StockPrices.csv\")"
      ],
      "metadata": {
        "id": "4CkvbW_SlZ_R"
      },
      "execution_count": null,
      "outputs": []
    },
    {
      "cell_type": "markdown",
      "source": [
        "### Dataset First View"
      ],
      "metadata": {
        "id": "x71ZqKXriCWQ"
      }
    },
    {
      "cell_type": "code",
      "source": [
        "# Dataset First Look\n",
        "df_bank.head()"
      ],
      "metadata": {
        "id": "LWNFOSvLl09H"
      },
      "execution_count": null,
      "outputs": []
    },
    {
      "cell_type": "markdown",
      "source": [
        "### Dataset Rows & Columns count"
      ],
      "metadata": {
        "id": "7hBIi_osiCS2"
      }
    },
    {
      "cell_type": "code",
      "source": [
        "# Dataset Rows & Columns count\n",
        "df_bank.shape"
      ],
      "metadata": {
        "id": "Kllu7SJgmLij"
      },
      "execution_count": null,
      "outputs": []
    },
    {
      "cell_type": "markdown",
      "source": [
        "### Dataset Information"
      ],
      "metadata": {
        "id": "JlHwYmJAmNHm"
      }
    },
    {
      "cell_type": "code",
      "source": [
        "df_bank.info()"
      ],
      "metadata": {
        "id": "zz82yaWOihiS"
      },
      "execution_count": null,
      "outputs": []
    },
    {
      "cell_type": "markdown",
      "source": [
        "#### Duplicate Values"
      ],
      "metadata": {
        "id": "35m5QtbWiB9F"
      }
    },
    {
      "cell_type": "code",
      "source": [
        "# Dataset Duplicate Value Count\n",
        "df_bank.duplicated().value_counts()\n"
      ],
      "metadata": {
        "id": "1sLdpKYkmox0"
      },
      "execution_count": null,
      "outputs": []
    },
    {
      "cell_type": "markdown",
      "source": [
        "#### Missing Values/Null Values"
      ],
      "metadata": {
        "id": "PoPl-ycgm1ru"
      }
    },
    {
      "cell_type": "code",
      "source": [
        "# Missing Values/Null Values Count\n",
        "df_bank.isna().sum()"
      ],
      "metadata": {
        "id": "GgHWkxvamxVg"
      },
      "execution_count": null,
      "outputs": []
    },
    {
      "cell_type": "code",
      "source": [
        "# Visualizing the missing values\n",
        "plt.figure(figsize=(8, 8))\n",
        "sns.heatmap(df_bank.isnull(), cmap='viridis',annot=True)\n",
        "plt.title('Missing Values Heatmap')\n",
        "plt.show()"
      ],
      "metadata": {
        "id": "3q5wnI3om9sJ"
      },
      "execution_count": null,
      "outputs": []
    },
    {
      "cell_type": "markdown",
      "source": [
        "### What did you know about your dataset?"
      ],
      "metadata": {
        "id": "H0kj-8xxnORC"
      }
    },
    {
      "cell_type": "markdown",
      "source": [
        "**Open:** The price at which a stock began trading when the market opened on a particular day.\n",
        "\n",
        "**High:** The highest price reached by a stock during a specific period.\n",
        "\n",
        "**Low:** The lowest price reached by a stock during a specific period.\n",
        "\n",
        "**Date:** The date corresponding to the stock price data.\n",
        "\n",
        "**Close:** The price of an individual stock when the stock exchange closed its market for the day. (Target/dependent variable)"
      ],
      "metadata": {
        "id": "gfoNAAC-nUe_"
      }
    },
    {
      "cell_type": "markdown",
      "source": [
        "## ***2. Understanding Your Variables***"
      ],
      "metadata": {
        "id": "nA9Y7ga8ng1Z"
      }
    },
    {
      "cell_type": "code",
      "source": [
        "# Dataset Columns\n",
        "list(df_bank.columns)"
      ],
      "metadata": {
        "id": "j7xfkqrt5Ag5"
      },
      "execution_count": null,
      "outputs": []
    },
    {
      "cell_type": "code",
      "source": [
        "# Dataset Describe\n",
        "df_bank.describe()"
      ],
      "metadata": {
        "id": "DnOaZdaE5Q5t"
      },
      "execution_count": null,
      "outputs": []
    },
    {
      "cell_type": "markdown",
      "source": [
        "### Variables Description"
      ],
      "metadata": {
        "id": "PBTbrJXOngz2"
      }
    },
    {
      "cell_type": "markdown",
      "source": [
        "The dataset encompasses monthly records of Yes Bank stock prices since its debut on the stock exchange. It includes vital features such as:\n",
        "\n",
        "**Date:** Signifying the specific month under observation.\n",
        "**Open:** Reflecting the stock's price at the inception of the trading day.\n",
        "**High:** Denoting the peak price achieved by the stock within the month.\n",
        "**Low:** Representing the minimum price recorded by the stock during the month.\n",
        "**Close:** Indicating the stock's price at the conclusion of the trading day.\n",
        "This dataset presents a panoramic view of Yes Bank's monthly performance, detailing its opening, highest, lowest, and closing prices since its inception on the stock exchange.Answer Here"
      ],
      "metadata": {
        "id": "aJV4KIxSnxay"
      }
    },
    {
      "cell_type": "markdown",
      "source": [
        "### Check Unique Values for each variable."
      ],
      "metadata": {
        "id": "u3PMJOP6ngxN"
      }
    },
    {
      "cell_type": "code",
      "source": [
        "# Check Unique Values for each variable.\n",
        "df_bank.nunique()"
      ],
      "metadata": {
        "id": "zms12Yq5n-jE"
      },
      "execution_count": null,
      "outputs": []
    },
    {
      "cell_type": "markdown",
      "source": [
        "## 3. ***Data Wrangling***"
      ],
      "metadata": {
        "id": "dauF4eBmngu3"
      }
    },
    {
      "cell_type": "markdown",
      "source": [
        "### Data Wrangling Code"
      ],
      "metadata": {
        "id": "bKJF3rekwFvQ"
      }
    },
    {
      "cell_type": "code",
      "source": [
        "df_bank.columns"
      ],
      "metadata": {
        "id": "m6ba-aBozA1h"
      },
      "execution_count": null,
      "outputs": []
    },
    {
      "cell_type": "code",
      "source": [
        "# Write your code to make your dataset analysis ready.\n",
        "from datetime import datetime\n",
        "\n",
        "# parsing date which is string of format %b-%y to datetime (%b for Month as locale’s abbreviated name and %y for Year without century as a zero-padded decimal number.\n",
        "df_bank['Date'] = df_bank['Date'].apply(lambda x: datetime.strptime(x, '%b-%y'))"
      ],
      "metadata": {
        "id": "wk-9a2fpoLcV"
      },
      "execution_count": null,
      "outputs": []
    },
    {
      "cell_type": "code",
      "source": [
        "df_bank['Year']=df_bank['Date'].dt.year\n",
        "#Extracting Month from Date column\n",
        "df_bank['Month']=df_bank['Date'].dt.month\n",
        "#Extracting quarter from Date column\n",
        "df_bank['Quarter']=df_bank['Date'].dt.quarter"
      ],
      "metadata": {
        "id": "nqwdTcy4z632"
      },
      "execution_count": null,
      "outputs": []
    },
    {
      "cell_type": "code",
      "source": [
        "num_cols = df_bank.select_dtypes(include='number').columns\n",
        "\n",
        "# Plot box plots to check for outliers\n",
        "fig, axes = plt.subplots(nrows=4, ncols=2, figsize=(14, 10), constrained_layout=True)\n",
        "fig.suptitle('Box Plots for Numerical Columns', fontsize=16, color='navy')\n",
        "\n",
        "# Adjusting subplot parameters\n",
        "fig.subplots_adjust(left=0.05, bottom=0.08, right=0.95, top=0.9, wspace=0.3, hspace=0.4)\n",
        "\n",
        "# Define colors for box plots\n",
        "colors = ['#9400d3', '#7fffd4', 'lightgreen', '#ff7f50', 'orchid', 'lightcoral', 'lightseagreen', 'lightskyblue']\n",
        "\n",
        "# Iterating over each subplot\n",
        "for ax, column, color in zip(axes.flatten(), num_cols, colors):\n",
        "    # Plotting box plot for the current column\n",
        "    sns.boxplot(x=df_bank[column], ax=ax, color=color, orient='h', linewidth=1.5)  # Using orient='h' for horizontal boxplot\n",
        "    ax.set_title(column, fontsize=12, color='darkblue')  # Setting subplot title\n",
        "    ax.set_xlabel('Values', fontsize=10, color='darkgreen')\n",
        "    ax.set_ylabel('')  # No need for y-axis label for horizontal boxplot\n",
        "    ax.grid(True, linestyle='--', alpha=0.7)\n",
        "\n",
        "plt.show()"
      ],
      "metadata": {
        "id": "ZNK8Kedv0Z3-"
      },
      "execution_count": null,
      "outputs": []
    },
    {
      "cell_type": "markdown",
      "source": [
        "### What all manipulations have you done and insights you found?"
      ],
      "metadata": {
        "id": "MSa1f5Uengrz"
      }
    },
    {
      "cell_type": "markdown",
      "source": [
        "1. After transforming the 'Date' column from string format to a date object, we introduced a new column named 'Year' to capture the individual years extracted from each date entry.\n",
        "2.Moreover, from the 'Date' column, we derived 'Month' and 'Quarter' variables to provide further insights into the temporal distribution of the data.\n",
        "3.In the process of outlier analysis, it was observed that the dataset exhibited no outliers, indicating the robustness of the data distribution.\n",
        "4.Furthermore, a thorough examination confirmed the absence of null values within the dataset, thus affirming its integrity and completeness.\n",
        "5.The box plots vividly reveal outliers across all four columns, which have been subsequently extracted and stored in a separate dataframe. However, given the inherent volatility in stock prices, we refrain from categorizing these outliers as irrelevant. Instead, recognizing their potential utility, we retain them within our dataset for further analysis."
      ],
      "metadata": {
        "id": "LbyXE7I1olp8"
      }
    },
    {
      "cell_type": "markdown",
      "source": [
        "## ***4. Data Vizualization, Storytelling & Experimenting with charts : Understand the relationships between variables***"
      ],
      "metadata": {
        "id": "GF8Ens_Soomf"
      }
    },
    {
      "cell_type": "markdown",
      "source": [
        "#### Chart - 1"
      ],
      "metadata": {
        "id": "0wOQAZs5pc--"
      }
    },
    {
      "cell_type": "code",
      "source": [
        "# Chart - 1 visualization code\n",
        "import plotly.graph_objects as go\n",
        "\n",
        "# Create a Figure object with Candlestick chart\n",
        "fig = go.Figure(go.Candlestick(\n",
        "    x=df_bank.index,            # x-axis values (dates)\n",
        "    open=df_bank['Open'],       # open prices\n",
        "    high=df_bank['High'],       # high prices\n",
        "    low=df_bank['Low'],         # low prices\n",
        "    close=df_bank['Close']      # close prices\n",
        "))\n",
        "\n",
        "# Update the layout of the figure with a title\n",
        "fig.update_layout(\n",
        "    title={'text': 'Describing Price Movements', 'x': 0.5, 'y': 0.95, 'font': {'color': 'Blue', 'size': 20}},\n",
        "    xaxis=dict(title='Year', title_font={'color': 'white', 'size': 16}, tickfont={'color': 'white', 'size': 12}),\n",
        "    yaxis=dict(title='Price', title_font={'color': 'white', 'size': 16}, tickfont={'color': 'white', 'size': 12}),\n",
        "    width=1200,\n",
        "    height=800,\n",
        "    plot_bgcolor='rgb(36, 40, 47)',  # Set the background color to a professional dark gray\n",
        "    paper_bgcolor='rgb(51, 56, 66)'  # Set the paper color\n",
        ")\n",
        "fig.show()"
      ],
      "metadata": {
        "id": "7v_ESjsspbW7"
      },
      "execution_count": null,
      "outputs": []
    },
    {
      "cell_type": "markdown",
      "source": [
        "##### 1. Why did you pick the specific chart?"
      ],
      "metadata": {
        "id": "K5QZ13OEpz2H"
      }
    },
    {
      "cell_type": "markdown",
      "source": [
        "*Answer* Here.Answer - The specific chart chosen in the provided code snippet is a Candlestick chart. Candlestick charts are commonly used in financial analysis to visualize the movement of stock prices over time. Each candlestick represents the open, high, low, and close prices for a specific period (e.g., day, week, month), providing valuable insights into price trends, volatility, and market sentiment.\n",
        "\n",
        "Here's why the Candlestick chart was chosen:\n",
        "\n",
        "Relevance to Financial Data: Candlestick charts are specifically designed to represent financial data, making them suitable for analyzing stock prices.\n",
        "\n",
        "**Comprehensive Representation:** Each candlestick encapsulates four essential price points (open, high, low, close), offering a comprehensive view of price movements within a given period.\n",
        "\n",
        "**Easy Interpretation:** Candlestick patterns are intuitive to interpret, allowing analysts to quickly identify trends, reversals, and potential trading opportunities.\n",
        "\n",
        "**Visual Appeal:** Candlestick charts are visually appealing and can effectively communicate complex price dynamics to stakeholders.\n",
        "\n",
        "Given that the goal is to describe price movements in the dataset, the Candlestick chart is a suitable choice due to its ability to provide a detailed and insightful representation of stock price data"
      ],
      "metadata": {
        "id": "XESiWehPqBRc"
      }
    },
    {
      "cell_type": "markdown",
      "source": [
        "##### 2. What is/are the insight(s) found from the chart?"
      ],
      "metadata": {
        "id": "lQ7QKXXCp7Bj"
      }
    },
    {
      "cell_type": "markdown",
      "source": [
        "The analysis of Yes Bank's stock prices uncovers a distinctive narrative. Before 2018, the stock showcased a steadfast upward trajectory, signaling buoyant growth and reflecting a positive outlook among investors. However, a notable downturn ensued thereafter, chiefly attributed to the Yes Bank fraud case implicating Rana Kapoor, its former CEO.\n",
        "\n",
        "In the lead-up to 2018, the stock enjoyed a sustained ascent, underscoring favorable market sentiments and investor faith. Yet, the disclosure of the fraud case involving Rana Kapoor marked a pivotal juncture, precipitating a sharp decline in stock prices.\n",
        "\n",
        "The ramifications of the fraud case reverberated profoundly, significantly dampening investor confidence and trust in Yes Bank. Consequently, the stock witnessed a palpable depreciation, mirroring the adverse impact of the scandal on the company's reputation and financial well-being.\n",
        "\n",
        "In essence, the analysis underscores the divergent trajectories in Yes Bank's stock prices. Pre-2018, there was a consistent upward trend, whereas the post-2018 period saw a marked downturn due to the reverberations of the fraud case involving Rana Kapoor."
      ],
      "metadata": {
        "id": "C_j1G7yiqdRP"
      }
    },
    {
      "cell_type": "markdown",
      "source": [
        "##### 3. Will the gained insights help creating a positive business impact?\n",
        "Are there any insights that lead to negative growth? Justify with specific reason."
      ],
      "metadata": {
        "id": "448CDAPjqfQr"
      }
    },
    {
      "cell_type": "markdown",
      "source": [
        "Insights from analyzing Yes Bank's stock prices can positively impact decision-making by informing strategies to navigate market volatility and rebuild investor confidence. However, the revelation of the fraud case involving Rana Kapoor damaged the bank's reputation, potentially leading to negative growth due to loss of trust and financial instability. Proactive measures to address these challenges are crucial for sustaining positive business impact and fostering growth."
      ],
      "metadata": {
        "id": "3cspy4FjqxJW"
      }
    },
    {
      "cell_type": "markdown",
      "source": [
        "#### Chart - 2"
      ],
      "metadata": {
        "id": "KSlN3yHqYklG"
      }
    },
    {
      "cell_type": "code",
      "source": [
        "# Chart - 2 visualization code\n",
        "plt.figure(figsize=(6,6))\n",
        "sns.distplot(df_bank['High'], color='blue')\n",
        "plt.title(\"Distribution\", fontsize=18)\n",
        "plt.xlabel('High', fontsize=12)\n",
        "plt.ylabel('Frequency', fontsize=12)\n",
        "plt.show()"
      ],
      "metadata": {
        "id": "R4YgtaqtYklH"
      },
      "execution_count": null,
      "outputs": []
    },
    {
      "cell_type": "markdown",
      "source": [
        "##### 1. Why did you pick the specific chart?"
      ],
      "metadata": {
        "id": "t6dVpIINYklI"
      }
    },
    {
      "cell_type": "markdown",
      "source": [
        "To see the distribution and hence apply necessary operation to make it normally distributed as for regression problem normally distributed performs best"
      ],
      "metadata": {
        "id": "5aaW0BYyYklI"
      }
    },
    {
      "cell_type": "markdown",
      "source": [
        "##### 2. What is/are the insight(s) found from the chart?"
      ],
      "metadata": {
        "id": "ijmpgYnKYklI"
      }
    },
    {
      "cell_type": "markdown",
      "source": [
        "A right-skewed distribution in stock price history suggests that lower prices are more common than higher prices, indicating potential for occasional significant gains but also higher volatility and risk. Investors should be cautious and conduct thorough analysis before making investment decisions."
      ],
      "metadata": {
        "id": "PSx9atu2YklI"
      }
    },
    {
      "cell_type": "markdown",
      "source": [
        "##### 3. Will the gained insights help creating a positive business impact?\n",
        "Are there any insights that lead to negative growth? Justify with specific reason."
      ],
      "metadata": {
        "id": "-JiQyfWJYklI"
      }
    },
    {
      "cell_type": "markdown",
      "source": [
        "Yes, insights from the right-skewed distribution can help tailor investment strategies, manage risks, make informed decisions, and communicate effectively with investors, leading to positive business impact in finance."
      ],
      "metadata": {
        "id": "BcBbebzrYklV"
      }
    },
    {
      "cell_type": "markdown",
      "source": [
        "#### Chart - 3"
      ],
      "metadata": {
        "id": "EM7whBJCYoAo"
      }
    },
    {
      "cell_type": "code",
      "source": [
        "# Chart - 3 visualization code\n",
        "plt.figure(figsize=(6,6))\n",
        "sns.distplot(df_bank['Open'], color='red')\n",
        "plt.title(\"Distribution\", fontsize=16)\n",
        "plt.xlabel('Open', fontsize=12)\n",
        "plt.ylabel('Frequency', fontsize=12)\n",
        "plt.show()"
      ],
      "metadata": {
        "id": "t6GMdE67YoAp"
      },
      "execution_count": null,
      "outputs": []
    },
    {
      "cell_type": "markdown",
      "source": [
        "##### 1. Why did you pick the specific chart?"
      ],
      "metadata": {
        "id": "fge-S5ZAYoAp"
      }
    },
    {
      "cell_type": "markdown",
      "source": [
        "To see the distribution of open of my stock, to understand the history of my stock in one sort."
      ],
      "metadata": {
        "id": "5dBItgRVYoAp"
      }
    },
    {
      "cell_type": "markdown",
      "source": [
        "##### 2. What is/are the insight(s) found from the chart?"
      ],
      "metadata": {
        "id": "85gYPyotYoAp"
      }
    },
    {
      "cell_type": "markdown",
      "source": [
        "The insights from the right-skewed distribution of the stock's opening graph suggest higher occurrences of lower opening prices, occasional significant gains, volatility, and long-term growth potential, but also highlight the need to manage associated risks."
      ],
      "metadata": {
        "id": "4jstXR6OYoAp"
      }
    },
    {
      "cell_type": "markdown",
      "source": [
        "##### 3. Will the gained insights help creating a positive business impact?\n",
        "Are there any insights that lead to negative growth? Justify with specific reason."
      ],
      "metadata": {
        "id": "RoGjAbkUYoAp"
      }
    },
    {
      "cell_type": "markdown",
      "source": [
        "The gained insights from the right-skewed distribution of the stock's opening graph can potentially create a positive business impact by informing investment strategies to capitalize on occasional significant gains and manage risks effectively. However, failure to adequately manage risks, such as volatility and overreliance on short-term gains, could lead to negative growth. Overemphasis on speculative trading based solely on occasional spikes in opening prices without considering fundamental factors may result in unsustainable growth and potential losses in the long term. Therefore, while the insights offer opportunities, careful risk management and consideration of long-term fundamentals are crucial to sustain positive growth."
      ],
      "metadata": {
        "id": "zfJ8IqMcYoAp"
      }
    },
    {
      "cell_type": "markdown",
      "source": [
        "#### Chart - 4"
      ],
      "metadata": {
        "id": "4Of9eVA-YrdM"
      }
    },
    {
      "cell_type": "code",
      "source": [
        "# Chart - 4 visualization code\n",
        "# Chart - 4 visualization code\n",
        "plt.figure(figsize=(6,6))\n",
        "sns.distplot(df_bank['Low'], color='black')\n",
        "plt.title(\"Distribution\", fontsize=18)\n",
        "plt.xlabel('Low', fontsize=12)\n",
        "plt.ylabel('Frequency', fontsize=12)\n",
        "plt.show()"
      ],
      "metadata": {
        "id": "irlUoxc8YrdO"
      },
      "execution_count": null,
      "outputs": []
    },
    {
      "cell_type": "markdown",
      "source": [
        "##### 1. Why did you pick the specific chart?"
      ],
      "metadata": {
        "id": "iky9q4vBYrdO"
      }
    },
    {
      "cell_type": "markdown",
      "source": [
        "To achieve a thorough understanding of the distribution, employing a distplot accompanied by a kernel density estimation (KDE) curve proves to be the most effective visualization technique. This method presents a holistic view of the feature's data points, enabling a deeper comprehension of its distribution traits."
      ],
      "metadata": {
        "id": "aJRCwT6DYrdO"
      }
    },
    {
      "cell_type": "markdown",
      "source": [
        "##### 2. What is/are the insight(s) found from the chart?"
      ],
      "metadata": {
        "id": "F6T5p64dYrdO"
      }
    },
    {
      "cell_type": "markdown",
      "source": [
        "Insights from the right-skewed distribution of the stock's low prices indicate more frequent lower lows, occasional significant increases, volatility, and potential long-term growth with caution."
      ],
      "metadata": {
        "id": "Xx8WAJvtYrdO"
      }
    },
    {
      "cell_type": "markdown",
      "source": [
        "##### 3. Will the gained insights help creating a positive business impact?\n",
        "Are there any insights that lead to negative growth? Justify with specific reason."
      ],
      "metadata": {
        "id": "y-Ehk30pYrdP"
      }
    },
    {
      "cell_type": "markdown",
      "source": [
        "The gained insights from the right-skewed distribution of the stock's low prices can potentially create a positive business impact by informing investment strategies to capitalize on occasional significant increases and manage risks effectively. However, failure to adequately manage risks, such as volatility and overreliance on short-term gains, could lead to negative growth. Overemphasis on speculative trading based solely on occasional spikes in low prices without considering fundamental factors may result in unsustainable growth and potential losses in the long term. Therefore, while the insights offer opportunities, careful risk management and consideration of long-term fundamentals are crucial to sustain positive growth."
      ],
      "metadata": {
        "id": "jLNxxz7MYrdP"
      }
    },
    {
      "cell_type": "markdown",
      "source": [
        "#### Chart - 5"
      ],
      "metadata": {
        "id": "bamQiAODYuh1"
      }
    },
    {
      "cell_type": "code",
      "source": [
        "# Chart - 5 visualization code\n",
        "plt.figure(figsize=(6,6))\n",
        "sns.distplot(df_bank['Close'], color='blue')\n",
        "plt.title(\"Distribution\", fontsize=16)\n",
        "plt.xlabel('Close', fontsize=12)\n",
        "plt.ylabel('Frequency', fontsize=12)\n",
        "plt.show()"
      ],
      "metadata": {
        "id": "TIJwrbroYuh3"
      },
      "execution_count": null,
      "outputs": []
    },
    {
      "cell_type": "markdown",
      "source": [
        "##### 1. Why did you pick the specific chart?"
      ],
      "metadata": {
        "id": "QHF8YVU7Yuh3"
      }
    },
    {
      "cell_type": "markdown",
      "source": [
        "To see the distribution and usderstand the behaviour"
      ],
      "metadata": {
        "id": "dcxuIMRPYuh3"
      }
    },
    {
      "cell_type": "markdown",
      "source": [
        "##### 2. What is/are the insight(s) found from the chart?"
      ],
      "metadata": {
        "id": "GwzvFGzlYuh3"
      }
    },
    {
      "cell_type": "markdown",
      "source": [
        "The right-skewed distribution of the stock's closing prices suggests more occurrences of lower prices, occasional significant increases, volatility, and long-term growth potential, highlighting both opportunities for gains and the need for risk management."
      ],
      "metadata": {
        "id": "uyqkiB8YYuh3"
      }
    },
    {
      "cell_type": "markdown",
      "source": [
        "##### 3. Will the gained insights help creating a positive business impact?\n",
        "Are there any insights that lead to negative growth? Justify with specific reason."
      ],
      "metadata": {
        "id": "qYpmQ266Yuh3"
      }
    },
    {
      "cell_type": "markdown",
      "source": [
        "The insights gained from the right-skewed distribution of the stock's closing prices can potentially create a positive business impact by informing investment strategies to capitalize on occasional significant increases and manage risks effectively. However, failure to adequately manage risks, such as volatility and overreliance on short-term gains, could lead to negative growth. Overemphasis on speculative trading based solely on occasional spikes in closing prices without considering fundamental factors may result in unsustainable growth and potential losses in the long term. Therefore, while the insights offer opportunities, careful risk management and consideration of long-term fundamentals are crucial to sustain positive growth."
      ],
      "metadata": {
        "id": "_WtzZ_hCYuh4"
      }
    },
    {
      "cell_type": "markdown",
      "source": [
        "#### Chart - 6"
      ],
      "metadata": {
        "id": "OH-pJp9IphqM"
      }
    },
    {
      "cell_type": "code",
      "source": [
        "# Chart - 6 visualization code\n",
        "from statsmodels.tsa.seasonal import seasonal_decompose\n",
        "result = seasonal_decompose(df_bank['Close'], model='additive', period=12)\n",
        "plt.figure(figsize=(12, 8))\n",
        "plt.subplot(411)\n",
        "plt.plot(result.observed)\n",
        "plt.title('Observed')\n",
        "plt.subplot(412)\n",
        "plt.plot(result.trend)\n",
        "plt.title('Trend')\n",
        "plt.subplot(413)\n",
        "plt.plot(result.seasonal)\n",
        "plt.title('Seasonal')\n",
        "plt.subplot(414)\n",
        "plt.plot(result.resid)\n",
        "plt.title('Residual')\n",
        "plt.tight_layout()\n",
        "plt.show()"
      ],
      "metadata": {
        "id": "kuRf4wtuphqN"
      },
      "execution_count": null,
      "outputs": []
    },
    {
      "cell_type": "markdown",
      "source": [
        "##### 1. Why did you pick the specific chart?"
      ],
      "metadata": {
        "id": "bbFf2-_FphqN"
      }
    },
    {
      "cell_type": "markdown",
      "source": [
        "The selected visualization is the seasonal decomposition plot, which breaks down the closing prices of Yes Bank stock into four parts: observed, trend, seasonal, and residual. This plot has been selected for analyzing the underlying trends in the data across time, including any seasonal patterns that may exist."
      ],
      "metadata": {
        "id": "loh7H2nzphqN"
      }
    },
    {
      "cell_type": "markdown",
      "source": [
        "##### 2. What is/are the insight(s) found from the chart?"
      ],
      "metadata": {
        "id": "_ouA3fa0phqN"
      }
    },
    {
      "cell_type": "markdown",
      "source": [
        "**Observed:** Displays the initial Yes Bank stock closing prices.\n",
        "\n",
        "**Trend:** Illustrates the overarching, long-term direction of the stock prices, minimizing short-term variations.\n",
        "\n",
        "**Seasonal:** Exhibits the recurring pattern or fluctuations happening at consistent intervals throughout the year.\n",
        "\n",
        "**Residual:** Represents the unpredictable or irregular segment of the data, not accounted for by the trend or seasonal elements."
      ],
      "metadata": {
        "id": "VECbqPI7phqN"
      }
    },
    {
      "cell_type": "markdown",
      "source": [
        "#### Chart - 7"
      ],
      "metadata": {
        "id": "PIIx-8_IphqN"
      }
    },
    {
      "cell_type": "code",
      "source": [
        "# Chart - 7 visualization code\n",
        "correlation_matrix = df_bank[['Open', 'High', 'Low', 'Close']].corr()\n",
        "\n",
        "plt.figure(figsize=(8, 9))\n",
        "sns.heatmap(correlation_matrix, annot=True, cmap='coolwarm', fmt=\".2f\")\n",
        "plt.title('Correlation Matrix of Open, High, Low, Close Prices')\n",
        "plt.show()"
      ],
      "metadata": {
        "id": "lqAIGUfyphqO"
      },
      "execution_count": null,
      "outputs": []
    },
    {
      "cell_type": "markdown",
      "source": [
        "##### 1. Why did you pick the specific chart?"
      ],
      "metadata": {
        "id": "t27r6nlMphqO"
      }
    },
    {
      "cell_type": "markdown",
      "source": [
        "Utilizing a heatmap of the correlation matrix in the stock_df DataFrame enables visualization of variable relationships. Annotated correlation coefficients offer quantitative insights, enhanced by color scheme customization. The heatmap swiftly identifies strong correlations and interdependencies, aiding in portfolio diversification and risk management strategies. It serves as a valuable tool for decision-making in stock market analysis and investment strategies.\n",
        "\n"
      ],
      "metadata": {
        "id": "iv6ro40sphqO"
      }
    },
    {
      "cell_type": "markdown",
      "source": [
        "##### 2. What is/are the insight(s) found from the chart?"
      ],
      "metadata": {
        "id": "r2jJGEOYphqO"
      }
    },
    {
      "cell_type": "markdown",
      "source": [
        "The independent variables exhibit strong correlations among themselves, while the dependent variable, Close, shows high correlation with Open, High, and Low.\n",
        "\n",
        "These insights from correlation analysis can inform investment decisions and trading strategies. For instance:\n",
        "\n",
        "Traders utilizing range-bound strategies can benefit from the strong correlation between High and Low prices.\n",
        "Understanding the relationship between Open, High, Low, and Close prices can aid in predicting future price movements and identifying trade entry or exit points."
      ],
      "metadata": {
        "id": "Po6ZPi4hphqO"
      }
    },
    {
      "cell_type": "markdown",
      "source": [
        "##### 3. Will the gained insights help creating a positive business impact?\n",
        "Are there any insights that lead to negative growth? Justify with specific reason."
      ],
      "metadata": {
        "id": "b0JNsNcRphqO"
      }
    },
    {
      "cell_type": "markdown",
      "source": [
        "Answer Here"
      ],
      "metadata": {
        "id": "xvSq8iUTphqO"
      }
    },
    {
      "cell_type": "markdown",
      "source": [
        "#### Chart - 8"
      ],
      "metadata": {
        "id": "BZR9WyysphqO"
      }
    },
    {
      "cell_type": "code",
      "source": [
        "# Chart - 8 visualization code\n",
        "sns.pairplot(df_bank)\n",
        "\n",
        "# Set the background colors for the figure and axes\n",
        "plot_bgcolor = (36/255, 40/255, 47/255, 1)  # RGB values divided by 255, with alpha=1 for full opacity\n",
        "paper_bgcolor = (51/255, 56/255, 66/255, 1)\n",
        "\n",
        "# Customize the appearance of the figure and axes\n",
        "plt.gcf().set_facecolor(plot_bgcolor)  # Set the background color of the figure\n",
        "plt.gca().set_facecolor(paper_bgcolor)  # Set the background color of the axes\n",
        "\n",
        "# Display the pair plot\n",
        "plt.show()"
      ],
      "metadata": {
        "id": "TdPTWpAVphqO"
      },
      "execution_count": null,
      "outputs": []
    },
    {
      "cell_type": "markdown",
      "source": [
        "##### 1. Why did you pick the specific chart?"
      ],
      "metadata": {
        "id": "jj7wYXLtphqO"
      }
    },
    {
      "cell_type": "markdown",
      "source": [
        "Opting for a pairs plot was a deliberate choice as it offers a comprehensive view of both individual variable distributions and pairwise relationships within the dataset. This visualization method enables swift detection of patterns and facilitates the identification of potential trends and areas warranting deeper exploration."
      ],
      "metadata": {
        "id": "Ob8u6rCTphqO"
      }
    },
    {
      "cell_type": "markdown",
      "source": [
        "##### 2. What is/are the insight(s) found from the chart?"
      ],
      "metadata": {
        "id": "eZrbJ2SmphqO"
      }
    },
    {
      "cell_type": "markdown",
      "source": [
        "The interplay among the variables Open, High, Low, and Close unveils intriguing insights into the dynamics of Yes Bank stock. Notably, there exists a robust correlation between these variables, particularly between Open, High, Low, and Close. This suggests a close relationship among the stock's opening, highest, lowest, and closing prices.\n",
        "\n",
        "Furthermore, Open, High, and Low demonstrate a striking correlation among themselves, indicating synchronized movements and shared trends. These correlations serve as pivotal indicators for analyzing Yes Bank stock, potentially serving as predictors of future closing prices.\n",
        "\n",
        "This intricate web of relationships underscores the interconnected nature of the stock market, hinting at the influence of external factors on stock performance. Leveraging this understanding empowers stakeholders to make informed decisions and discern patterns for forecasting future price movements.\n",
        "\n",
        "However, it's essential to approach these correlations with caution, as correlation does not imply causation. A comprehensive analysis requires a holistic consideration of additional factors and nuanced insights to truly grasp the complexities of stock market behavior."
      ],
      "metadata": {
        "id": "mZtgC_hjphqO"
      }
    },
    {
      "cell_type": "markdown",
      "source": [
        "**5. Hypothesis Testing**"
      ],
      "metadata": {
        "id": "YJ55k-q6phqO"
      }
    },
    {
      "cell_type": "markdown",
      "source": [
        "Based on your chart experiments, define three hypothetical statements from the dataset. In the next three questions, perform hypothesis testing to obtain final conclusion about the statements through your code and statistical testing."
      ],
      "metadata": {
        "id": "OsKHGvnh9olx"
      }
    },
    {
      "cell_type": "markdown",
      "source": [
        "**Hypothetical Statement - 1**\n",
        "1. State Your research hypothesis as a null hypothesis and alternate hypothesis.\n",
        "Answer -\n",
        "\n",
        "Null Hypothesis (H0): There is no significant difference in the mean closing price between different quarters.\n",
        "\n",
        "Alternative Hypothesis (H1): There is a significant difference in the mean closing price between at least one pair of quarters."
      ],
      "metadata": {
        "id": "QSpxiCXQ9zyP"
      }
    },
    {
      "cell_type": "markdown",
      "source": [
        "**2. Perform an appropriate statistical test.**"
      ],
      "metadata": {
        "id": "tEUgfzIY-Eqi"
      }
    },
    {
      "cell_type": "code",
      "source": [
        "# Perform Statistical Test to obtain P-Value\n",
        "import scipy.stats as stats\n",
        "\n",
        "# Extract closing prices for each quarter\n",
        "quarterly_closing_prices = [df_bank[df_bank['Quarter'] == q]['Close'] for q in range(1, 5)]\n",
        "\n",
        "# One-way ANOVA test\n",
        "statistic, p_value = stats.f_oneway(*quarterly_closing_prices)\n",
        "\n",
        "# Interpret results\n",
        "alpha = 0.05\n",
        "if p_value < alpha:\n",
        "    print(\"Reject null hypothesis: There is a significant difference in the mean closing price between quarters.\")\n",
        "else:\n",
        "    print(\"Fail to reject null hypothesis: There is no significant difference in the mean closing price between quarters.\")"
      ],
      "metadata": {
        "id": "d6V-gElj8y7Y"
      },
      "execution_count": null,
      "outputs": []
    },
    {
      "cell_type": "markdown",
      "source": [
        " **Feature Engineering & Data Pre-processing**"
      ],
      "metadata": {
        "id": "mprv00PD_FHg"
      }
    },
    {
      "cell_type": "markdown",
      "source": [
        "1. Handling Missing Values"
      ],
      "metadata": {
        "id": "XbRAKshg_NbT"
      }
    },
    {
      "cell_type": "code",
      "source": [
        "# Handling Missing Values & Missing Value Imputation\n",
        "df_bank.isna().sum()"
      ],
      "metadata": {
        "id": "vMBSjbAm_QXj"
      },
      "execution_count": null,
      "outputs": []
    },
    {
      "cell_type": "markdown",
      "source": [
        "**Feature Manipulation & Selection**"
      ],
      "metadata": {
        "id": "S3D_E9AP_bJC"
      }
    },
    {
      "cell_type": "code",
      "source": [
        "# Manipulate Features to minimize feature correlation and create new features\n",
        "cols=['Open','High','Low']\n",
        "for i in cols:\n",
        "  plt.figure(figsize=(6,5))\n",
        "  sns.distplot(df_bank[i], color='green')\n",
        "  plt.title(\"Distribution\", fontsize=16)\n",
        "  plt.xlabel(i, fontsize=12)\n",
        "  plt.ylabel('Frequency', fontsize=12)\n",
        "  plt.show()"
      ],
      "metadata": {
        "id": "_cM6jbrg_j40"
      },
      "execution_count": null,
      "outputs": []
    },
    {
      "cell_type": "code",
      "source": [
        "cols=['Open','High','Low']\n",
        "for i in cols:\n",
        "  plt.figure(figsize=(6,5))\n",
        "  sns.distplot(np.log(df_bank[i]), color='blue')\n",
        "  plt.title(\"Distribution\", fontsize=16)\n",
        "  plt.xlabel(i, fontsize=12)\n",
        "  plt.ylabel('Frequency', fontsize=12)\n",
        "  plt.show()"
      ],
      "metadata": {
        "id": "yFMwQ0sp_qQY"
      },
      "execution_count": null,
      "outputs": []
    },
    {
      "cell_type": "markdown",
      "source": [
        "#### Chart - 10"
      ],
      "metadata": {
        "id": "U2RJ9gkRphqQ"
      }
    },
    {
      "cell_type": "markdown",
      "source": [
        "# **Conclusion**"
      ],
      "metadata": {
        "id": "gCX9965dhzqZ"
      }
    },
    {
      "cell_type": "markdown",
      "source": [
        "The exploration and refinement journey of the Yes Bank stock price dataset have been meticulous, ensuring a robust foundation for modeling.\n",
        "\n",
        "Throughout the process:\n",
        "\n",
        "**Data Integrity:** The dataset stood out with its completeness, devoid of null values and outliers, laying a solid groundwork for analysis.\n",
        "\n",
        "**Insightful Visualizations:** Skewed features underwent log transformation, unveiling hidden patterns while ensuring normalization. Notably, a strong positive linear correlation emerged among variables, underscoring their interdependencies.\n",
        "\n",
        "**Detecting Trends:** Astute observations uncovered intriguing trends, such as the post-2017 decline in stock value and the remarkable surge within a confined 10-month window in 2014.\n",
        "\n",
        "**Multicollinearity:** Despite encountering high multicollinearity, no feature engineering was pursued, as extremely large VIFs indicated the equal significance of all variables.\n",
        "\n",
        "**Normalization and Scaling:** Leveraging StandardScaler ensured uniform scaling across features, refining the dataset for modeling.\n",
        "\n",
        "**Hypothesis Testing:** Rigorous hypothesis testing shed light on crucial insights, affirming the historical mean closing price equality and the non-stationarity of stock closing prices.\n",
        "\n",
        "**Model Selection:** A comprehensive array of regression models, including Linear Regression and Random Forest Regressor, underwent rigorous evaluation. Ultimately, the Hyperparameter-tuned Linear Regressor emerged triumphant, boasting superior performance.\n",
        "\n",
        "**Feature Importance:** Delving deeper, Permutation Importance Scores highlighted the pivotal role of the \"Low\" feature in predicting the target variable, closely followed by the \"High\" feature. Conversely, \"Open,\" \"Year,\" \"Month,\" and \"Quarter\" features exhibited relatively lower importance, with \"Open\" ranking as the least significant.\n",
        "\n",
        "In essence, the journey from data exploration to model selection has been a testament to thoroughness and precision, culminating in the selection of the Hyperparameter-tuned Linear Regressor as the beacon of predictive prowess."
      ],
      "metadata": {
        "id": "Fjb1IsQkh3yE"
      }
    },
    {
      "cell_type": "markdown",
      "source": [
        "### ***Hurrah! You have successfully completed your EDA Capstone Project !!!***"
      ],
      "metadata": {
        "id": "gIfDvo9L0UH2"
      }
    }
  ]
}